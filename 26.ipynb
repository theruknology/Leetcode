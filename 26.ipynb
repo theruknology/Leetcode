{
 "cells": [
  {
   "cell_type": "code",
   "execution_count": null,
   "metadata": {
    "vscode": {
     "languageId": "plaintext"
    }
   },
   "outputs": [],
   "source": [
    "# bruteforce solution\n",
    "def removeDuplicates(nums):\n",
    "  print(nums)\n",
    "  counter = 1\n",
    "  prev_item = nums[0]\n",
    "  while counter < len(nums):\n",
    "    if nums[counter - 1] == nums[counter]:\n",
    "      thing = nums.pop(counter)\n",
    "      continue\n",
    "    counter += 1\n",
    "  print(nums)"
   ]
  }
 ],
 "metadata": {
  "language_info": {
   "name": "python"
  }
 },
 "nbformat": 4,
 "nbformat_minor": 2
}
