{
 "cells": [
  {
   "cell_type": "code",
   "execution_count": null,
   "id": "423b6a01",
   "metadata": {},
   "outputs": [],
   "source": [
    "# my solution - ignore the if tree :(\n",
    "def removeElement(nums, val):\n",
    "    \"\"\"\n",
    "    :type nums: List[int]\n",
    "    :type val: int\n",
    "    :rtype: int\n",
    "    \"\"\"\n",
    "    print(len(nums))\n",
    "    counter = 0\n",
    "    last = len(nums) - 1\n",
    "    \n",
    "    while counter < len(nums):\n",
    "        if nums[counter] == val:\n",
    "            nums[counter] = nums[last]\n",
    "            nums.pop()\n",
    "            last -= 1\n",
    "        if len(nums) != 0 and counter < len(nums) and nums[counter] != val:\n",
    "            counter += 1\n",
    "    print(nums)"
   ]
  }
 ],
 "metadata": {
  "language_info": {
   "name": "python"
  }
 },
 "nbformat": 4,
 "nbformat_minor": 5
}
