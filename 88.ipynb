{
 "cells": [
  {
   "cell_type": "code",
   "execution_count": null,
   "id": "67ba8dea",
   "metadata": {},
   "outputs": [],
   "source": [
    "# Initial bruteforce solution\n",
    "\n",
    "def merge(nums1, m, nums2, n):\n",
    "    \"\"\"\n",
    "    :type nums1: List[int]\n",
    "    :type m: int\n",
    "    :type nums2: List[int]\n",
    "    :type n: int\n",
    "    :rtype: None Do not return anything, modify nums1 in-place instead.\n",
    "    \"\"\"\n",
    "    _merged = [0]*(m+n)\n",
    "    counter = 0\n",
    "    next1 = 0\n",
    "    next2 = 0\n",
    "    while counter < m + n:\n",
    "        # print(nums2) # These print statements are commented out for clarity\n",
    "        # print(f\"run number: {counter}\")\n",
    "        # print(f\"next1: {next1}\")\n",
    "        # print(f\"next2: {next2}\")\n",
    "        # print(f\"Sorted: {_merged}\")\n",
    "        if next1 < m and (next2 >= n or nums1[next1] <= nums2[next2]):\n",
    "            _merged[counter] = nums1[next1]\n",
    "            # print(\"1 chose\")\n",
    "            next1 += 1\n",
    "        elif next2 < n and (next1 >= m or nums2[next2] < nums1[next1]):\n",
    "            _merged[counter] = nums2[next2]\n",
    "            # print(\"2 chose\")\n",
    "            next2 += 1\n",
    "\n",
    "        counter += 1 # Increment counter at the end of each successful merge step\n",
    "\n",
    "    for i in range(m + n):\n",
    "        nums1[i] = _merged[i]\n",
    "\n",
    "    print(nums1)"
   ]
  },
  {
   "cell_type": "code",
   "execution_count": null,
   "id": "0bc666a2",
   "metadata": {},
   "outputs": [],
   "source": [
    "# Optimal solution: merging in reverse order\n",
    "def merge(nums1, m, nums2, n):\n",
    "    \n",
    "    i = m - 1  \n",
    "    j = n - 1  \n",
    "    k = m + n - 1  \n",
    "\n",
    "    while j >= 0:\n",
    "        if i >= 0 and nums1[i] > nums2[j]:\n",
    "            nums1[k] = nums1[i]\n",
    "            i -= 1\n",
    "        else:\n",
    "            nums1[k] = nums2[j]\n",
    "            j -= 1\n",
    "        k -= 1"
   ]
  },
  {
   "cell_type": "code",
   "execution_count": null,
   "id": "5aebc505",
   "metadata": {},
   "outputs": [],
   "source": []
  }
 ],
 "metadata": {
  "kernelspec": {
   "display_name": "feddl",
   "language": "python",
   "name": "python3"
  },
  "language_info": {
   "codemirror_mode": {
    "name": "ipython",
    "version": 3
   },
   "file_extension": ".py",
   "mimetype": "text/x-python",
   "name": "python",
   "nbconvert_exporter": "python",
   "pygments_lexer": "ipython3",
   "version": "3.12.3"
  }
 },
 "nbformat": 4,
 "nbformat_minor": 5
}
